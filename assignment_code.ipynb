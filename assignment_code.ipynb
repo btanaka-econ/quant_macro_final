{
 "cells": [
  {
   "cell_type": "markdown",
   "id": "dfdc06c3",
   "metadata": {},
   "source": [
    "## Problem.1"
   ]
  },
  {
   "cell_type": "code",
   "execution_count": 6,
   "id": "745f7eb4",
   "metadata": {},
   "outputs": [],
   "source": [
    "#import libraries\n",
    "import numpy as np\n",
    "import matplotlib.pyplot as plt"
   ]
  },
  {
   "cell_type": "code",
   "execution_count": null,
   "id": "457d275d",
   "metadata": {},
   "outputs": [],
   "source": [
    "#Parameters\n",
    "gamma = 2.0\n",
    "beta = 0.985**20\n",
    "r = 1.025**20 - 1.0\n",
    "l = np.array([0.8027, 1.0, 1.2457]) # Productivity levels\n",
    "NL = 3 # Number of productivity levels\n",
    "# Transition matrix\n",
    "prob = np.array([\n",
    "    [0.7451, 0.2528, 0.0021],\n",
    "    [0.1360, 0.7281, 0.1360],\n",
    "    [0.0021, 0.2528, 0.7451]\n",
    "])"
   ]
  },
  {
   "cell_type": "code",
   "execution_count": 11,
   "id": "b0974605",
   "metadata": {},
   "outputs": [],
   "source": [
    "# Grids\n",
    "a_l = 0.0\n",
    "a_u = 4.0\n",
    "NA = 100\n",
    "a = np.linspace(a_l, a_u, NA)"
   ]
  },
  {
   "cell_type": "code",
   "execution_count": 12,
   "id": "ffb56f17",
   "metadata": {},
   "outputs": [],
   "source": [
    "# Utility function\n",
    "def util(c, gamma):\n",
    "    if c > 0:\n",
    "        return (c**(1 - gamma)) / (1 - gamma)\n",
    "    else:\n",
    "        return -np.inf # Return negative infinity for non-positive consumption"
   ]
  },
  {
   "cell_type": "code",
   "execution_count": null,
   "id": "8d652533",
   "metadata": {},
   "outputs": [],
   "source": [
    "# Initialization\n",
    "v = np.zeros((3, NA, NL)) # Value function for 3 periods\n",
    "aplus = np.zeros((2, NA, NL)) # Savings policy function for young and middle age"
   ]
  },
  {
   "cell_type": "code",
   "execution_count": null,
   "id": "af00eba8",
   "metadata": {},
   "outputs": [],
   "source": [
    "# Backward induction\n",
    "# Period 3\n",
    "for ia in range(NA):\n",
    "    for il in range(NL):\n",
    "        # In old age, there's no labor income, and all assets are consumed\n",
    "        v[2, ia, il] = util((1.0 + r) * a[ia], gamma)\n",
    "\n",
    "# Period 2\n",
    "for il in range(NL): # Productivity in middle age\n",
    "    for ia in range(NA): # Assets at the beginning of middle age\n",
    "        reward = np.zeros(NA)\n",
    "        for iap in range(NA): # Assets for the next period (old age)\n",
    "            # Middle-aged labor income depends on the productivity shock\n",
    "            # For simplicity, we assume middle-age income is the same as the productivity level 'y'\n",
    "            # (as per the problem's focus on initial productivity)\n",
    "            consumption = l[il] + (1.0 + r) * a[ia] - a[iap]\n",
    "            if consumption > 0:\n",
    "                reward[iap] = util(consumption, gamma) + beta * v[2, iap, 0] # v[2] is independent of 'l'\n",
    "        aplus[1, ia, il] = a[np.argmax(reward)]\n",
    "        v[1, ia, il] = np.max(reward)"
   ]
  }
 ],
 "metadata": {
  "kernelspec": {
   "display_name": "Python 3",
   "language": "python",
   "name": "python3"
  },
  "language_info": {
   "codemirror_mode": {
    "name": "ipython",
    "version": 3
   },
   "file_extension": ".py",
   "mimetype": "text/x-python",
   "name": "python",
   "nbconvert_exporter": "python",
   "pygments_lexer": "ipython3",
   "version": "3.12.4"
  }
 },
 "nbformat": 4,
 "nbformat_minor": 5
}
